{
 "cells": [
  {
   "cell_type": "code",
   "execution_count": 26,
   "metadata": {},
   "outputs": [
    {
     "data": {
      "text/html": [
       "<div>\n",
       "<style scoped>\n",
       "    .dataframe tbody tr th:only-of-type {\n",
       "        vertical-align: middle;\n",
       "    }\n",
       "\n",
       "    .dataframe tbody tr th {\n",
       "        vertical-align: top;\n",
       "    }\n",
       "\n",
       "    .dataframe thead th {\n",
       "        text-align: right;\n",
       "    }\n",
       "</style>\n",
       "<table border=\"1\" class=\"dataframe\">\n",
       "  <thead>\n",
       "    <tr style=\"text-align: right;\">\n",
       "      <th></th>\n",
       "      <th>SITE</th>\n",
       "      <th>COUNTRY</th>\n",
       "      <th>PRODUCT</th>\n",
       "      <th>PAGE</th>\n",
       "      <th>DROP-OFF RATE</th>\n",
       "      <th>UNIQUE USER</th>\n",
       "      <th>INVOICE</th>\n",
       "    </tr>\n",
       "  </thead>\n",
       "  <tbody>\n",
       "    <tr>\n",
       "      <td>0</td>\n",
       "      <td>LD</td>\n",
       "      <td>US</td>\n",
       "      <td>RSLSE</td>\n",
       "      <td>PREVIEW</td>\n",
       "      <td>0.540807</td>\n",
       "      <td>19578.0</td>\n",
       "      <td>10587.925405</td>\n",
       "    </tr>\n",
       "    <tr>\n",
       "      <td>1</td>\n",
       "      <td>LD</td>\n",
       "      <td>US</td>\n",
       "      <td>RSLSE</td>\n",
       "      <td>PAYMENT</td>\n",
       "      <td>0.805340</td>\n",
       "      <td>12465.0</td>\n",
       "      <td>10038.567332</td>\n",
       "    </tr>\n",
       "    <tr>\n",
       "      <td>2</td>\n",
       "      <td>LD</td>\n",
       "      <td>US</td>\n",
       "      <td>RSLSE</td>\n",
       "      <td>SELECTION</td>\n",
       "      <td>0.887048</td>\n",
       "      <td>11641.0</td>\n",
       "      <td>10326.123479</td>\n",
       "    </tr>\n",
       "    <tr>\n",
       "      <td>3</td>\n",
       "      <td>LD</td>\n",
       "      <td>US</td>\n",
       "      <td>PWRATT</td>\n",
       "      <td>PREVIEW</td>\n",
       "      <td>0.491351</td>\n",
       "      <td>66245.0</td>\n",
       "      <td>32549.531004</td>\n",
       "    </tr>\n",
       "    <tr>\n",
       "      <td>4</td>\n",
       "      <td>LD</td>\n",
       "      <td>US</td>\n",
       "      <td>PWRATT</td>\n",
       "      <td>PAYMENT</td>\n",
       "      <td>0.739526</td>\n",
       "      <td>70625.0</td>\n",
       "      <td>52228.988576</td>\n",
       "    </tr>\n",
       "  </tbody>\n",
       "</table>\n",
       "</div>"
      ],
      "text/plain": [
       "  SITE COUNTRY PRODUCT       PAGE  DROP-OFF RATE  UNIQUE USER       INVOICE\n",
       "0   LD      US   RSLSE    PREVIEW       0.540807      19578.0  10587.925405\n",
       "1   LD      US   RSLSE    PAYMENT       0.805340      12465.0  10038.567332\n",
       "2   LD      US   RSLSE  SELECTION       0.887048      11641.0  10326.123479\n",
       "3   LD      US  PWRATT    PREVIEW       0.491351      66245.0  32549.531004\n",
       "4   LD      US  PWRATT    PAYMENT       0.739526      70625.0  52228.988576"
      ]
     },
     "execution_count": 26,
     "metadata": {},
     "output_type": "execute_result"
    }
   ],
   "source": [
    "import pandas as pd \n",
    "import xlwings as xl \n",
    "import seaborn as sns\n",
    "import matplotlib.pyplot as plt\n",
    "\n",
    "plt.rcParams['figure.figsize'] = [10, 5]\n",
    "\n",
    "# get this workbook\n",
    "wb = xl.Book(r'data.xlsx')\n",
    "\n",
    "# make a pandas dataframe with data\n",
    "dataSheet = wb.sheets['data']\n",
    "plotSheet = wb.sheets['graph']\n",
    "\n",
    "# transforming data in pandas dataframe\n",
    "data_range_str = dataSheet.used_range.get_address(row_absolute=False, column_absolute=False)\n",
    "data_range = dataSheet.range(data_range_str).value\n",
    "\n",
    "dt = pd.DataFrame(data_range[1:], columns=data_range[0])\n",
    "dt.head()"
   ]
  },
  {
   "cell_type": "code",
   "execution_count": 29,
   "metadata": {},
   "outputs": [
    {
     "data": {
      "text/plain": [
       "<matplotlib.axes._subplots.AxesSubplot at 0x7fac5cba03d0>"
      ]
     },
     "execution_count": 29,
     "metadata": {},
     "output_type": "execute_result"
    },
    {
     "data": {
      "image/png": "[encoded data removed]",
      "text/plain": [
       "<Figure size 720x360 with 2 Axes>"
      ]
     },
     "metadata": {
      "needs_background": "light"
     },
     "output_type": "display_data"
    }
   ],
   "source": [
    "#filtering data\n",
    "site_param = plotSheet.range('B1').value\n",
    "country_param = plotSheet.range('B2').value\n",
    "\n",
    "heat = dt[(dt.SITE == site_param) & (dt.COUNTRY == country_param)]\n",
    "heat_piv = heat.pivot_table(index=['PRODUCT'], values='DROP-OFF RATE', columns='PAGE')\n",
    "heat_piv= heat_piv.fillna(0)#.sort_values('INVOICE', ascending=False)\n",
    "#heat_piv = heat_piv.reset_index()#.drop('PAGE', axis=1)#('INVOICE').drop('INVOICE', axis=1)\n",
    "heat_piv.head()\n",
    "\n",
    "#ploting graph\n",
    "sns.heatmap(heat_piv, annot=True, cmap=\"YlGnBu\", vmin=0, vmax=1)"
   ]
  },
  {
   "cell_type": "code",
   "execution_count": null,
   "metadata": {},
   "outputs": [],
   "source": []
  },
  {
   "cell_type": "code",
   "execution_count": null,
   "metadata": {},
   "outputs": [],
   "source": []
  },
  {
   "cell_type": "code",
   "execution_count": null,
   "metadata": {},
   "outputs": [],
   "source": []
  },
  {
   "cell_type": "code",
   "execution_count": null,
   "metadata": {},
   "outputs": [],
   "source": []
  },
  {
   "cell_type": "code",
   "execution_count": null,
   "metadata": {},
   "outputs": [],
   "source": []
  },
  {
   "cell_type": "code",
   "execution_count": null,
   "metadata": {},
   "outputs": [],
   "source": []
  },
  {
   "cell_type": "code",
   "execution_count": null,
   "metadata": {},
   "outputs": [],
   "source": []
  },
  {
   "cell_type": "code",
   "execution_count": null,
   "metadata": {},
   "outputs": [],
   "source": []
  }
 ],
 "metadata": {
  "kernelspec": {
   "display_name": "Python 3",
   "language": "python",
   "name": "python3"
  },
  "language_info": {
   "codemirror_mode": {
    "name": "ipython",
    "version": 3
   },
   "file_extension": ".py",
   "mimetype": "text/x-python",
   "name": "python",
   "nbconvert_exporter": "python",
   "pygments_lexer": "ipython3",
   "version": "3.7.4"
  }
 },
 "nbformat": 4,
 "nbformat_minor": 2
}
